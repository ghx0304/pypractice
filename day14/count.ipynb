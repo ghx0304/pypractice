{
 "cells": [
  {
   "cell_type": "code",
   "execution_count": 1,
   "outputs": [],
   "source": [
    "from sklearn.feature_extraction.text import CountVectorizer"
   ],
   "metadata": {
    "collapsed": false,
    "pycharm": {
     "name": "#%%\n"
    }
   }
  },
  {
   "cell_type": "code",
   "execution_count": 8,
   "outputs": [
    {
     "name": "stdout",
     "output_type": "stream",
     "text": [
      "  (np.int32(0), np.int32(0))\t2\n",
      "  (np.int32(0), np.int32(4))\t1\n",
      "  (np.int32(1), np.int32(1))\t2\n",
      "  (np.int32(1), np.int32(3))\t1\n",
      "  (np.int32(1), np.int32(2))\t1\n",
      "  (np.int32(2), np.int32(0))\t1\n",
      "  (np.int32(2), np.int32(4))\t1\n",
      "  (np.int32(3), np.int32(1))\t1\n",
      "  (np.int32(3), np.int32(3))\t1\n",
      "  (np.int32(3), np.int32(2))\t1\n",
      "<class 'scipy.sparse._csr.csr_matrix'>\n",
      "[[2 0 0 0 1]\n",
      " [0 2 1 1 0]\n",
      " [1 0 0 0 1]\n",
      " [0 1 1 1 0]]\n",
      "['apple' 'banana' 'cream' 'ice' 'pie']\n"
     ]
    }
   ],
   "source": [
    "def coucev():\n",
    "    #初始化CountVectorizer\n",
    "    vectorizer = CountVectorizer(min_df=2)\n",
    "    #加载数据集\n",
    "    data = ['apple apple pie', 'banana banana ice cream', 'apple pie', 'banana ice cream']\n",
    "    #转换成词频矩阵\n",
    "    X = vectorizer.fit_transform(data)\n",
    "    #打印数据集\n",
    "    print(X)\n",
    "    #打印数据类型\n",
    "    print(type(X))\n",
    "    #获取词袋模型中的所有词汇\n",
    "    words = vectorizer.get_feature_names_out()\n",
    "    #打印词频矩阵\n",
    "    print(X.toarray())\n",
    "    #打印所有词汇\n",
    "    print(words)\n",
    "\n",
    "coucev()"
   ],
   "metadata": {
    "collapsed": false,
    "pycharm": {
     "name": "#%%\n"
    }
   }
  },
  {
   "cell_type": "code",
   "execution_count": null,
   "outputs": [],
   "source": [],
   "metadata": {
    "collapsed": false,
    "pycharm": {
     "name": "#%%\n"
    }
   }
  }
 ],
 "metadata": {
  "kernelspec": {
   "display_name": "Python 3",
   "language": "python",
   "name": "python3"
  },
  "language_info": {
   "codemirror_mode": {
    "name": "ipython",
    "version": 2
   },
   "file_extension": ".py",
   "mimetype": "text/x-python",
   "name": "python",
   "nbconvert_exporter": "python",
   "pygments_lexer": "ipython2",
   "version": "2.7.6"
  }
 },
 "nbformat": 4,
 "nbformat_minor": 0
}