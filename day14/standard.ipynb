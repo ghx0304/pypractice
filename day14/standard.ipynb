{
 "cells": [
  {
   "cell_type": "code",
   "execution_count": 3,
   "outputs": [],
   "source": [
    "from sklearn.preprocessing import StandardScaler\n",
    "import numpy as np"
   ],
   "metadata": {
    "collapsed": false,
    "pycharm": {
     "name": "#%%\n"
    }
   }
  },
  {
   "cell_type": "code",
   "execution_count": 8,
   "outputs": [
    {
     "name": "stdout",
     "output_type": "stream",
     "text": [
      "原始数据：\n",
      "[[0.20182155 0.84439979 0.00471694 0.20145795]\n",
      " [0.08994015 0.96585685 0.30254072 0.15675107]\n",
      " [0.00393592 0.01483069 0.95296041 0.62211983]\n",
      " [0.19574989 0.083898   0.90644072 0.5432334 ]]\n",
      "--------------------------------------------------\n",
      "标准化后的数据：\n",
      "[[ 0.96510491  0.85240981 -1.3343469  -0.87820805]\n",
      " [-0.40239423  1.13439324 -0.59423721 -1.09701969]\n",
      " [-1.45360313 -1.07357733  1.02209415  1.18066322]\n",
      " [ 0.89089244 -0.91322571  0.90648996  0.79456452]]\n",
      "--------------------------------------------------\n",
      "均值：\n",
      "[0.12286188 0.47724633 0.54166469 0.38089056]\n",
      "--------------------------------------------------\n",
      "方差：\n",
      "[0.00669363 0.18552326 0.16192972 0.04174533]\n",
      "--------------------------------------------------\n",
      "缩放因子：\n",
      "[0.0818146  0.43072411 0.40240492 0.20431675]\n"
     ]
    }
   ],
   "source": [
    "def stand():\n",
    "    std = StandardScaler()\n",
    "    data = np.random.rand(16).reshape(4, 4)\n",
    "    print(\"原始数据：\")\n",
    "    print(data)\n",
    "    print('-'*50)\n",
    "    data_std = std.fit_transform(data)\n",
    "    print(\"标准化后的数据：\")\n",
    "    print(data_std)\n",
    "    print('-'*50)\n",
    "    print(\"均值：\")\n",
    "    print(std.mean_)\n",
    "    print('-'*50)\n",
    "    print(\"方差：\")\n",
    "    print(std.var_)\n",
    "    print('-'*50)\n",
    "\n",
    "stand()"
   ],
   "metadata": {
    "collapsed": false,
    "pycharm": {
     "name": "#%%\n"
    }
   }
  },
  {
   "cell_type": "code",
   "execution_count": null,
   "outputs": [],
   "source": [],
   "metadata": {
    "collapsed": false,
    "pycharm": {
     "name": "#%%\n"
    }
   }
  }
 ],
 "metadata": {
  "kernelspec": {
   "display_name": "Python 3",
   "language": "python",
   "name": "python3"
  },
  "language_info": {
   "codemirror_mode": {
    "name": "ipython",
    "version": 2
   },
   "file_extension": ".py",
   "mimetype": "text/x-python",
   "name": "python",
   "nbconvert_exporter": "python",
   "pygments_lexer": "ipython2",
   "version": "2.7.6"
  }
 },
 "nbformat": 4,
 "nbformat_minor": 0
}