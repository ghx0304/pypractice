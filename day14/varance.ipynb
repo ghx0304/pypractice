{
 "cells": [
  {
   "cell_type": "code",
   "execution_count": 5,
   "outputs": [],
   "source": [
    "from sklearn.feature_selection import VarianceThreshold\n",
    "import numpy as np"
   ],
   "metadata": {
    "collapsed": false,
    "pycharm": {
     "name": "#%%\n"
    }
   }
  },
  {
   "cell_type": "code",
   "execution_count": 10,
   "outputs": [
    {
     "name": "stdout",
     "output_type": "stream",
     "text": [
      "[[0.97734236 0.06102474 0.96963517]\n",
      " [0.24928657 0.87051339 0.02025034]]\n",
      "['x0' 'x5' 'x6']\n",
      "[0 5 6]\n"
     ]
    }
   ],
   "source": [
    "def varance():\n",
    "    data = np.random.rand(24).reshape(2, 12)\n",
    "    var = VarianceThreshold(threshold=0.1)\n",
    "    data_var = var.fit_transform(data)\n",
    "    print(data_var)\n",
    "    print(var.get_feature_names_out())\n",
    "    print(var.get_support(True))\n",
    "varance()"
   ],
   "metadata": {
    "collapsed": false,
    "pycharm": {
     "name": "#%%\n"
    }
   }
  },
  {
   "cell_type": "code",
   "execution_count": null,
   "outputs": [],
   "source": [],
   "metadata": {
    "collapsed": false,
    "pycharm": {
     "name": "#%%\n"
    }
   }
  }
 ],
 "metadata": {
  "kernelspec": {
   "display_name": "Python 3",
   "language": "python",
   "name": "python3"
  },
  "language_info": {
   "codemirror_mode": {
    "name": "ipython",
    "version": 2
   },
   "file_extension": ".py",
   "mimetype": "text/x-python",
   "name": "python",
   "nbconvert_exporter": "python",
   "pygments_lexer": "ipython2",
   "version": "2.7.6"
  }
 },
 "nbformat": 4,
 "nbformat_minor": 0
}