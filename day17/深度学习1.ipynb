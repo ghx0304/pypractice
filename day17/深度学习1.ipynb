{
 "cells": [
  {
   "cell_type": "code",
   "id": "initial_id",
   "metadata": {
    "collapsed": true,
    "ExecuteTime": {
     "end_time": "2025-01-13T12:23:02.750284Z",
     "start_time": "2025-01-13T12:23:02.664146Z"
    }
   },
   "source": [
    "import math\n",
    "\n",
    "import numpy as np"
   ],
   "outputs": [],
   "execution_count": 1
  },
  {
   "metadata": {
    "ExecuteTime": {
     "end_time": "2025-01-13T12:23:29.085337Z",
     "start_time": "2025-01-13T12:23:29.082306Z"
    }
   },
   "cell_type": "code",
   "source": [
    "a = np.array([1,2,3,4])\n",
    "print(a)"
   ],
   "id": "725647a40a274b81",
   "outputs": [
    {
     "name": "stdout",
     "output_type": "stream",
     "text": [
      "[1 2 3 4]\n"
     ]
    }
   ],
   "execution_count": 2
  },
  {
   "metadata": {
    "ExecuteTime": {
     "end_time": "2025-01-13T12:27:28.996714Z",
     "start_time": "2025-01-13T12:27:28.812018Z"
    }
   },
   "cell_type": "code",
   "source": [
    "import time\n",
    "a =np.random.rand(1000000)\n",
    "b = np.random.rand(1000000)\n",
    "\n",
    "tic = time.time()\n",
    "c = np.dot(a,b)\n",
    "toc = time.time()\n",
    "\n",
    "print(c)\n",
    "print('vector dot product took '+str(1000*(toc-tic))+'ms')\n",
    "\n",
    "c = 0\n",
    "tic = time.time()\n",
    "for i in range(len(a)):\n",
    "    c+=a[i]*b[i]\n",
    "toc = time.time()\n",
    "print(c)\n",
    "\n",
    "print('matrix multiplication took '+str(1000*(toc-tic))+'ms')\n"
   ],
   "id": "d53e25721ae8305f",
   "outputs": [
    {
     "name": "stdout",
     "output_type": "stream",
     "text": [
      "250318.86186488718\n",
      "vector dot product took 0.9999275207519531ms\n",
      "250318.86186489722\n",
      "matrix multiplication took 167.91009902954102ms\n"
     ]
    }
   ],
   "execution_count": 6
  },
  {
   "metadata": {},
   "cell_type": "markdown",
   "source": "# 结论：向量化运算的速度要快于循环运算。",
   "id": "b566b7325bb5eea4"
  },
  {
   "metadata": {
    "ExecuteTime": {
     "end_time": "2025-01-13T12:35:03.425511Z",
     "start_time": "2025-01-13T12:35:03.416818Z"
    }
   },
   "cell_type": "code",
   "source": [
    "import math\n",
    "n = 1000000\n",
    "u =np.exp(a)\n",
    "u"
   ],
   "id": "33164493ef8eb94",
   "outputs": [
    {
     "data": {
      "text/plain": [
       "array([1.87576094, 1.0568797 , 1.99194855, ..., 2.08699083, 2.31117094,\n",
       "       2.55348484], shape=(1000000,))"
      ]
     },
     "execution_count": 11,
     "metadata": {},
     "output_type": "execute_result"
    }
   ],
   "execution_count": 11
  },
  {
   "metadata": {},
   "cell_type": "code",
   "outputs": [],
   "execution_count": null,
   "source": "",
   "id": "1246ba13a1437805"
  }
 ],
 "metadata": {
  "kernelspec": {
   "display_name": "Python 3",
   "language": "python",
   "name": "python3"
  },
  "language_info": {
   "codemirror_mode": {
    "name": "ipython",
    "version": 2
   },
   "file_extension": ".py",
   "mimetype": "text/x-python",
   "name": "python",
   "nbconvert_exporter": "python",
   "pygments_lexer": "ipython2",
   "version": "2.7.6"
  }
 },
 "nbformat": 4,
 "nbformat_minor": 5
}
